{
 "cells": [
  {
   "cell_type": "code",
   "execution_count": 4,
   "id": "0c8ab005",
   "metadata": {},
   "outputs": [
    {
     "name": "stdout",
     "output_type": "stream",
     "text": [
      "Ensemble model weight pair with corresponding accuracies:\n",
      "\n",
      "[0.1, 0.9] -> 0.7402597402597403\n",
      "[0.2, 0.8] -> 0.7532467532467533\n",
      "[0.3, 0.7] -> 0.7727272727272727\n",
      "[0.4, 0.6] -> 0.7922077922077922\n",
      "[0.5, 0.5] -> 0.7467532467532467\n",
      "[0.6, 0.4] -> 0.7792207792207793\n",
      "[0.7, 0.3] -> 0.7792207792207793\n",
      "[0.8, 0.2] -> 0.7662337662337663\n",
      "[0.9, 0.1] -> 0.7857142857142857\n"
     ]
    }
   ],
   "source": [
    "from keras.models import Sequential\n",
    "from keras.layers import Dense\n",
    "from sklearn.pipeline import Pipeline\n",
    "from sklearn.model_selection import train_test_split\n",
    "from sklearn.preprocessing import LabelEncoder\n",
    "from sklearn.metrics import accuracy_score\n",
    "from keras.wrappers.scikit_learn import KerasClassifier\n",
    "from sklearn.model_selection import cross_val_score\n",
    "from sklearn.preprocessing import StandardScaler\n",
    "from sklearn.datasets import make_classification\n",
    "from sklearn.metrics import roc_curve\n",
    "from sklearn.metrics import roc_auc_score\n",
    "from matplotlib import pyplot\n",
    "import pandas as pd                                                                                                                                                                                                                                                                                                                                                                                                                                                                                    \n",
    "import numpy as np\n",
    "\n",
    "df=pd.read_csv('diabetes.csv')\n",
    "df.shape\n",
    "\n",
    "\n",
    "# split into input (X) and output (Y) variables\n",
    "X=df.drop('Outcome',axis=1)\n",
    "Y=df['Outcome']\n",
    "x_train, x_test, y_train, y_test = train_test_split(X,Y, test_size=0.2, random_state=5)\n",
    "# further split data into multiple dataset, thus, with same samples (rows) but different dimensions (columns)\n",
    "X1_train, X2_train=x_train[['Pregnancies','Glucose','BloodPressure','SkinThickness']], x_train[['Insulin','BMI','DiabetesPedigreeFunction','Age']]\n",
    "X1_test,X2_test=x_test[['Pregnancies','Glucose','BloodPressure','SkinThickness']], x_test[['Insulin','BMI','DiabetesPedigreeFunction','Age']]\n",
    "\n",
    "X_train_list = [X1_train, X2_train]\n",
    "X_test_list = [X1_test, X2_test]\n",
    "\n",
    "# Function to create model, required for KerasClassifier\n",
    "def create_model():\n",
    "    # create model\n",
    "    model = Sequential()\n",
    "    model.add(Dense(12, input_dim=4, kernel_initializer= 'uniform' , activation= 'relu' ))\n",
    "    model.add(Dense(8, kernel_initializer= 'uniform' , activation= 'relu' ))\n",
    "    model.add(Dense(1, kernel_initializer= 'uniform' , activation= 'sigmoid' ))\n",
    "    # Compile model\n",
    "    model.compile(loss= 'binary_crossentropy' , optimizer= 'adam' , metrics=['accuracy'])\n",
    "    return model\n",
    "\n",
    "\n",
    "# creating two model instances, which will be traind on 2 different datasets\n",
    "DNN1=KerasClassifier(build_fn=create_model,epochs=20, batch_size=10, verbose=0)\n",
    "DNN_pipe1=Pipeline([('standardizer', StandardScaler()), ('cnn', DNN1)])\n",
    "DNN2=KerasClassifier(build_fn=create_model,epochs=15, batch_size=20, verbose=0)\n",
    "DNN_pipe2=Pipeline([('standardizer', StandardScaler()), ('cnn', DNN2)])\n",
    "\n",
    "classifiers=[DNN_pipe1,DNN_pipe2]\n",
    "\n",
    "\n",
    "# Training multiple classifiers using fit()\n",
    "def multiple_classifier_fit(clsf_list,x_train_list,y):\n",
    "    le = LabelEncoder()\n",
    "    le.fit(y)\n",
    "    y = le.transform(y)\n",
    "    classifiers=[ clsf.fit(X,y) for clsf,X in zip(clsf_list,x_train_list)]\n",
    "    return classifiers\n",
    "\n",
    "# Weighted average ensemble on different datasets\n",
    "def ensemble_predict(estimator_list, X_test_list, weights):\n",
    "    pred1 = np.asarray([clsf.predict_proba(X) for clsf, X in zip(estimator_list, X_test_list)])\n",
    "    pred2 = np.average(pred1, axis=0, weights=weights)    # weighting and averaging \n",
    "    pred = np.argmax(pred2, axis=1)                       # index of highest predicted weighted value\n",
    "    return pred,pred2  # pred_y is either 0 or 1 and pred_y_probs in range (0,1).Whiles pred_y is needed for calculating predictions, pred_y_probs will be used for ROC and AUC calculation     \n",
    "def Gridsearch():\n",
    "    # Weights\n",
    "    w=[0.1,0.2,0.3,0.4,0.5,0.6,0.7,0.8,0.9]\n",
    "    accuracies,W_list,i,j=[],[],0,8\n",
    "    while (i<len(w)):\n",
    "        W=[w[i],w[j]]\n",
    "        # For every weight pair combination, compute the accuracy of the ensemble model\n",
    "        fitted_classifiers=multiple_classifier_fit(classifiers,X_train_list,y_train)\n",
    "        pred_y,pred_y_probs= ensemble_predict(fitted_classifiers,X_test_list,W)\n",
    "        accuracy=accuracy_score(y_test, pred_y)\n",
    "        # add weight pair and accuracy to the dictionary\n",
    "        accuracies.append(accuracy)\n",
    "        W_list.append(W)\n",
    "        i+=1\n",
    "        j-=1\n",
    "    return accuracies, W_list\n",
    "\n",
    "print('Ensemble model weight pair with corresponding accuracies:\\n')\n",
    "scores,weight=Gridsearch()\n",
    "for wgt,sc in zip(weight,scores):\n",
    "    print(wgt,'->',sc)\n"
   ]
  },
  {
   "cell_type": "markdown",
   "id": "6488fc57",
   "metadata": {},
   "source": [
    "#### From the above results, best pair of weight for the ensemble DNN classier was [0.6, 0.4] reaching 79.22% accuracy"
   ]
  },
  {
   "cell_type": "markdown",
   "id": "fec75214",
   "metadata": {},
   "source": [
    "###  ROC curve and AUC of the best weight pair"
   ]
  },
  {
   "cell_type": "code",
   "execution_count": 6,
   "id": "e8d1809b",
   "metadata": {},
   "outputs": [
    {
     "name": "stdout",
     "output_type": "stream",
     "text": [
      "AUC score: 0.871\n",
      "\n",
      " ROC curve\n"
     ]
    },
    {
     "data": {
      "image/png": "[encoded data removed]",
      "text/plain": [
       "<Figure size 432x288 with 1 Axes>"
      ]
     },
     "metadata": {
      "needs_background": "light"
     },
     "output_type": "display_data"
    }
   ],
   "source": [
    "W=[0.4,0.6]\n",
    "fitted_classifiers=multiple_classifier_fit(classifiers,X_train_list,y_train)\n",
    "pred_y,pred_y_probs= ensemble_predict(fitted_classifiers,X_test_list,W)# pred_y is either 0 or 1 and pred_y_probs in range (0,1)\n",
    "pred_y_probs=pred_y_probs[:,1]\n",
    "# Compute AUC score\n",
    "auc=roc_auc_score(y_test, pred_y_probs)\n",
    "print('AUC score: %.3f' %(auc))\n",
    "# ROC  curve\n",
    "fpr, tpr, treshold = roc_curve(y_test, pred_y_probs)\n",
    "pyplot.plot(fpr, tpr)\n",
    "pyplot.xlabel('False Positive Rate')\n",
    "pyplot.ylabel('True Positive Rate')\n",
    "print('\\n ROC curve')\n",
    "pyplot.show()"
   ]
  },
  {
   "cell_type": "code",
   "execution_count": null,
   "id": "fe94f488",
   "metadata": {},
   "outputs": [],
   "source": []
  }
 ],
 "metadata": {
  "kernelspec": {
   "display_name": "Python 3",
   "language": "python",
   "name": "python3"
  },
  "language_info": {
   "codemirror_mode": {
    "name": "ipython",
    "version": 3
   },
   "file_extension": ".py",
   "mimetype": "text/x-python",
   "name": "python",
   "nbconvert_exporter": "python",
   "pygments_lexer": "ipython3",
   "version": "3.6.8"
  }
 },
 "nbformat": 4,
 "nbformat_minor": 5
}
